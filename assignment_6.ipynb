{
 "cells": [
  {
   "cell_type": "markdown",
   "metadata": {},
   "source": [
    "# Assignment 6"
   ]
  },
  {
   "cell_type": "markdown",
   "metadata": {},
   "source": [
    "**Exercise 1:**  write a Python program to find palindromes in a given list of strings using Lambda.\n",
    "\n",
    "Apply the Python program for the following two lists:\n",
    "\n",
    "**Input 1:** ```['civic', 'Lambda', 'Python', 'QTM', 'Java', 'ana']```\n",
    "\n",
    "**Output 1:** ```['civic', 'ana']```\n",
    "\n",
    "**Input 2:** ```['nurses run', 'Nurses Run', 'madam', 'Stats', 'World', 'what']```\n",
    "\n",
    "**Output 2:** ```['nurses run', 'Nurses Run', 'madam', 'Stats']```"
   ]
  },
  {
   "cell_type": "code",
   "execution_count": 19,
   "metadata": {},
   "outputs": [
    {
     "name": "stdout",
     "output_type": "stream",
     "text": [
      "['civic', 'ana']\n",
      "['nurses run', 'Nurses Run', 'madam', 'Stats']\n"
     ]
    }
   ],
   "source": [
    "texts1 = ['civic', 'Lambda', 'Python', 'QTM', 'Java', 'ana']\n",
    "texts2 = ['nurses run', 'Nurses Run', 'madam', 'Stats', 'World', 'what']\n",
    "\n",
    "result1=list(filter(lambda i: (i.replace(\" \", \"\").lower()==i[::-1].replace(\" \", \"\").lower()), texts1)) \n",
    "result2=list(filter(lambda i: (i.replace(\" \", \"\").lower()==i[::-1].replace(\" \", \"\").lower()), texts2)) \n",
    "\n",
    "\n",
    "print(result1)\n",
    "print(result2)"
   ]
  },
  {
   "cell_type": "markdown",
   "metadata": {},
   "source": [
    "**Exercise 2:** write a Python program to calculate the sum of the positive and negative numbers of a given list of numbers using lambda function.\n",
    "\n",
    "**Output:**\n",
    "\n",
    "Original list: [2, 4, -6, -9, 11, -12, 14, -5, 17]\n",
    "\n",
    "Sum of the positive numbers:  -32\n",
    "\n",
    "Sum of the negative numbers:  48"
   ]
  },
  {
   "cell_type": "code",
   "execution_count": 28,
   "metadata": {},
   "outputs": [
    {
     "name": "stdout",
     "output_type": "stream",
     "text": [
      "Sum of the negative numbers -32\n",
      "Sum of the positive numbers 48\n"
     ]
    }
   ],
   "source": [
    "L = [2, 4, -6, -9, 11, -12, 14, -5, 17]\n",
    "sum_negative = sum(list(filter(lambda x: x<0, L)))\n",
    "sum_positive = sum(list(filter(lambda x: x>0, L)))\n",
    "\n",
    "print(\"Sum of the negative numbers\", sum_negative)\n",
    "print(\"Sum of the positive numbers\",sum_positive)"
   ]
  },
  {
   "cell_type": "markdown",
   "metadata": {},
   "source": [
    "**Exercise 3:** write a Python program to find the maximum, minimum and average values in a given heterogeneous list using lambda.\n",
    "\n",
    "**Output:**\n",
    "\n",
    "Original list: ['I', 'love' 3, 2, 4, 5, 'Python', 12]\n",
    "\n",
    "Maximum value: 12\n",
    "\n",
    "Minimum value: 2\n",
    "\n",
    "Average value: 5.2"
   ]
  },
  {
   "cell_type": "code",
   "execution_count": 36,
   "metadata": {},
   "outputs": [
    {
     "name": "stdout",
     "output_type": "stream",
     "text": [
      "Maximum value: 12\n",
      "Minimum value: 2\n",
      "Average value: 5.2\n"
     ]
    }
   ],
   "source": [
    "from statistics import mean\n",
    "\n",
    "L =  ['I', 'love', 3, 2, 4, 5, 'Python', 12]\n",
    "mx = max(list(filter(lambda x: type(x)==int, L)))\n",
    "mi = min(list(filter(lambda x: type(x)==int, L)))\n",
    "avg = mean(list(filter(lambda x: type(x)==int, L)))\n",
    "\n",
    "print(\"Maximum value:\", mx)\n",
    "print(\"Minimum value:\",mi)\n",
    "print(\"Average value:\",avg)\n"
   ]
  },
  {
   "cell_type": "code",
   "execution_count": null,
   "metadata": {},
   "outputs": [],
   "source": []
  }
 ],
 "metadata": {
  "kernelspec": {
   "display_name": "conda_amazonei_mxnet_p36",
   "language": "python",
   "name": "conda_amazonei_mxnet_p36"
  },
  "language_info": {
   "codemirror_mode": {
    "name": "ipython",
    "version": 3
   },
   "file_extension": ".py",
   "mimetype": "text/x-python",
   "name": "python",
   "nbconvert_exporter": "python",
   "pygments_lexer": "ipython3",
   "version": "3.6.13"
  },
  "vscode": {
   "interpreter": {
    "hash": "9fbb33e86ca55080a202fed700efde3fb4ffe3f46131e5b52201b9ba06ce5f72"
   }
  }
 },
 "nbformat": 4,
 "nbformat_minor": 4
}
